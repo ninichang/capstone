{
 "cells": [
  {
   "cell_type": "markdown",
   "metadata": {},
   "source": [
    "## From wiki on dynamic programming https://www.wikiwand.com/en/Dynamic_programming#/Checkerboard"
   ]
  },
  {
   "cell_type": "code",
   "execution_count": 4,
   "metadata": {},
   "outputs": [],
   "source": [
    "import numpy as np"
   ]
  },
  {
   "cell_type": "code",
   "execution_count": 60,
   "metadata": {},
   "outputs": [],
   "source": [
    "def c(x, y, index_in_x, index_in_y):\n",
    "    return np.abs(x[index_in_x]-y[index_in_y])\n",
    "\n",
    "\n",
    "def ComputeShortestPathArrays(x, y):\n",
    "    q = np.zeros((len(y)+1, len(x)+1))\n",
    "    p = np.zeros((len(y)+1, len(x)+1))\n",
    "    for i in range(1, len(y)):     \n",
    "        q[1, i] = c(x, y, 1, i)\n",
    "        \n",
    "    print(q)           \n",
    "    \n",
    "    for j in range(1, len(y)):\n",
    "        q[j, 0] = np.inf\n",
    "        q[j, len(y)+1] = np.inf\n",
    "      \n",
    "    \n",
    "    for j in range(2, len(y)):\n",
    "        for k in range(1, len(y)):\n",
    "            to_compare = [q[j-1, k-1], q[j-1, k], q[j-1, k+1]]\n",
    "            m = to_compare[np.argmin(to_compare)]\n",
    "#             print(m)\n",
    "            q[j, k] = m + c(x, y, j, k)\n",
    "            if m != q[j-1, k-1]:\n",
    "                p[j, k] = -1\n",
    "            elif m == q[j-1, k]:\n",
    "                p[j, k] = 0\n",
    "            else:\n",
    "                p[j, k] = 1\n",
    "    print(p)\n",
    "    print(q)     \n",
    "    return p, q"
   ]
  },
  {
   "cell_type": "code",
   "execution_count": 61,
   "metadata": {},
   "outputs": [
    {
     "name": "stdout",
     "output_type": "stream",
     "text": [
      "[[0. 0. 0. 0. 0.]\n",
      " [0. 1. 0. 0. 0.]\n",
      " [0. 0. 0. 0. 0.]\n",
      " [0. 0. 0. 0. 0.]]\n",
      "[[ 0.  0.  0.  0.  0.]\n",
      " [ 0.  0.  0.  0.  0.]\n",
      " [ 0. -1. -1.  0.  0.]\n",
      " [ 0.  0.  0.  0.  0.]]\n",
      "[[ 0.  0.  0.  0.  0.]\n",
      " [inf  1.  0.  0. inf]\n",
      " [inf  0.  1.  0. inf]\n",
      " [ 0.  0.  0.  0.  0.]]\n"
     ]
    }
   ],
   "source": [
    "x = [0, 0, 1, 0]\n",
    "y = [0, 1, 0]\n",
    "p, q = ComputeShortestPathArrays(x, y)"
   ]
  },
  {
   "cell_type": "code",
   "execution_count": null,
   "metadata": {},
   "outputs": [],
   "source": []
  },
  {
   "cell_type": "code",
   "execution_count": 63,
   "metadata": {},
   "outputs": [
    {
     "name": "stdout",
     "output_type": "stream",
     "text": [
      "1\n"
     ]
    }
   ],
   "source": [
    "def printPath(y, x):\n",
    "    print(x)\n",
    "    print('<-')\n",
    "    if y == 2:\n",
    "        print(x + p[y, x])\n",
    "    else:\n",
    "        printPath(y-1, x + p[y, x])\n",
    "    \n",
    "\n",
    "def computeShortestPath(x, y, p, q):\n",
    "    minIndex = 1\n",
    "    q_min = q[len(y), 1]\n",
    "    for i in range(2, len(y)):\n",
    "        if q[len(y), i] < q_min:\n",
    "            minIndex = i\n",
    "            min = q[len(y), i]\n",
    "        print(minIndex)\n",
    "\n",
    "    \n",
    "computeShortestPath(x, y, p, q)"
   ]
  },
  {
   "cell_type": "code",
   "execution_count": null,
   "metadata": {},
   "outputs": [],
   "source": []
  },
  {
   "cell_type": "code",
   "execution_count": null,
   "metadata": {},
   "outputs": [],
   "source": []
  }
 ],
 "metadata": {
  "kernelspec": {
   "display_name": "Python 3",
   "language": "python",
   "name": "python3"
  },
  "language_info": {
   "codemirror_mode": {
    "name": "ipython",
    "version": 3
   },
   "file_extension": ".py",
   "mimetype": "text/x-python",
   "name": "python",
   "nbconvert_exporter": "python",
   "pygments_lexer": "ipython3",
   "version": "3.7.6"
  }
 },
 "nbformat": 4,
 "nbformat_minor": 4
}
